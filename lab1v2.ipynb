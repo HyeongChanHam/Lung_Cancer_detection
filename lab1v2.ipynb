{
  "nbformat": 4,
  "nbformat_minor": 0,
  "metadata": {
    "file_extension": ".py",
    "kernelspec": {
      "display_name": "Python 3.7.4 64-bit",
      "language": "python",
      "name": "python37464bit410f2a66b89d4b7b8d902f3a21ba8404"
    },
    "language_info": {
      "codemirror_mode": {
        "name": "ipython",
        "version": 3
      },
      "file_extension": ".py",
      "mimetype": "text/x-python",
      "name": "python",
      "nbconvert_exporter": "python",
      "pygments_lexer": "ipython3",
      "version": "2.7.16-final"
    },
    "mimetype": "text/x-python",
    "name": "python",
    "npconvert_exporter": "python",
    "pygments_lexer": "ipython2",
    "version": 2,
    "colab": {
      "name": "lab1v2.ipynb",
      "provenance": [],
      "collapsed_sections": [],
      "include_colab_link": true
    }
  },
  "cells": [
    {
      "cell_type": "markdown",
      "metadata": {
        "id": "view-in-github",
        "colab_type": "text"
      },
      "source": [
        "<a href=\"https://colab.research.google.com/github/HyeongChanHam/Lung_Cancer_detection/blob/master/lab1v2.ipynb\" target=\"_parent\"><img src=\"https://colab.research.google.com/assets/colab-badge.svg\" alt=\"Open In Colab\"/></a>"
      ]
    },
    {
      "cell_type": "markdown",
      "metadata": {
        "id": "w4HX_PCN4B7t",
        "colab_type": "text"
      },
      "source": [
        "Assignment 1: Crypto\n",
        "=============\n",
        "\n",
        "Introduction\n",
        "------------\n",
        "\n",
        "In this lab, you will implement and break several cyptographic algorithms or insecure random number generators. \n",
        "\n",
        "Please follow this to complete the assignment. You can fill out the blanks as it appears as to be instructed.  \n",
        "All packages that you may need is already imported. If you are pretty sure that you must use more, please contact the instructor. \n",
        "\n",
        "\n",
        "Configuration\n",
        "-------------\n",
        "\n",
        "This notebook is written on a Mac, using vscode, and tested on [Google colab](https://colab.research.google.com/).  \n",
        "Among the modules required, the notebook installs `pycrypto` automatically as shown below,  \n",
        "and you need to user python version 3.6 or later due to `secret` module.  \n",
        "\n",
        "We recommend you to either work on somewhere with vscode as most of systems these days have  \n",
        "python >= 3.6. If this option doesn't work, Google Colab should be a working option.  \n",
        "\n",
        "\n",
        "Modules that you are allowed to use.\n",
        "------------------------------------\n",
        "\n",
        "The building blocks that you have from the packages are:\n",
        "- base64 encoder/decoder\n",
        "- AES block cipher with mode of operation implement.\n",
        "- Secure random token generation.\n",
        "\n",
        "Please contact the instructor if you are really sure that you must use the modules which are not imported by default.\n",
        "\n",
        "** Please note that changes to the code blocks other than the ones for you could result in 0 grade for the challenge.**\n",
        "\n",
        "\n",
        "References\n",
        "----------\n",
        "\n",
        "These challenges are originally grepped from [https://cryptopals.com/].  \n",
        "**YOU MUST NOT JUST BRING THE SOLUTIONS AVAILABLE ONLINE.**  \n",
        "It will result in cheating.\n",
        "\n",
        "\n"
      ]
    },
    {
      "cell_type": "code",
      "metadata": {
        "id": "fI1g2Vhx4B7u",
        "colab_type": "code",
        "colab": {
          "base_uri": "https://localhost:8080/",
          "height": 224
        },
        "outputId": "530dc7b8-bd6c-491d-97ef-d9fe80c4b1ec"
      },
      "source": [
        "! pip3 install pycrypto\n",
        "from secrets import token_bytes, randbelow\n",
        "from base64 import b64decode, b64encode\n",
        "from Crypto.Cipher import AES\n",
        "from time import sleep, time\n",
        "from Crypto.PublicKey import RSA\n",
        "from Crypto import Random\n",
        "from math import gcd\n",
        "from requests import get\n",
        "import operator, string\n",
        "\n",
        "# https://stackoverflow.com/questions/312443/how-do-you-split-a-list-into-evenly-sized-chunks\n",
        "def chunks(lst, n):\n",
        "    \"\"\"Yield successive n-sized chunks from lst.\"\"\"\n",
        "    for i in range(0, len(lst), n):\n",
        "        yield lst[i:i + n]\n",
        "\n",
        "test_input_urls = [\n",
        "    'https://pastebin.com/raw/wF5qra2w',\n",
        "    'https://pastebin.com/raw/YLeTER7C'\n",
        "]\n",
        "test_inputs = []\n",
        "if __name__ == '__main__':\n",
        "    for u in test_input_urls:\n",
        "        resp = get(u)\n",
        "        if (resp.status_code != 200):\n",
        "            print ('failed to fetch from {}. Please report to the instructor.'.format(u))\n",
        "        test_inputs.append(resp.text)\n"
      ],
      "execution_count": 1,
      "outputs": [
        {
          "output_type": "stream",
          "text": [
            "Collecting pycrypto\n",
            "\u001b[?25l  Downloading https://files.pythonhosted.org/packages/60/db/645aa9af249f059cc3a368b118de33889219e0362141e75d4eaf6f80f163/pycrypto-2.6.1.tar.gz (446kB)\n",
            "\u001b[K     |████████████████████████████████| 450kB 1.4MB/s \n",
            "\u001b[?25hBuilding wheels for collected packages: pycrypto\n",
            "  Building wheel for pycrypto (setup.py) ... \u001b[?25l\u001b[?25hdone\n",
            "  Created wheel for pycrypto: filename=pycrypto-2.6.1-cp36-cp36m-linux_x86_64.whl size=499939 sha256=e9c050ab45513067985d080f5debc6d637ff3ce9eb6613ea947ead5a9e257940\n",
            "  Stored in directory: /root/.cache/pip/wheels/27/02/5e/77a69d0c16bb63c6ed32f5386f33a2809c94bd5414a2f6c196\n",
            "Successfully built pycrypto\n",
            "Installing collected packages: pycrypto\n",
            "Successfully installed pycrypto-2.6.1\n"
          ],
          "name": "stdout"
        }
      ]
    },
    {
      "cell_type": "markdown",
      "metadata": {
        "id": "n7yZiG_T4B7x",
        "colab_type": "text"
      },
      "source": [
        "(*0 points*) Challenge 0: Data types\n",
        "-----------------------\n",
        "\n",
        "In this lab, you will be dealing with three types of data: `int`, `string`, and `bytes`.  \n",
        "To print out and dealwith the bytes, you may find it useful to encode is with base64.  \n",
        "For more details, please refer to [a wiki article](https://en.wikipedia.org/wiki/Base64).\n",
        "\n",
        "The following is some examples of playing with the types.\n"
      ]
    },
    {
      "cell_type": "code",
      "metadata": {
        "id": "k-flxOfW4B7x",
        "colab_type": "code",
        "colab": {
          "base_uri": "https://localhost:8080/",
          "height": 148
        },
        "outputId": "ef46e8b6-35f1-445f-f191-8d35c486f418"
      },
      "source": [
        "string_t = 'I hate security.'\n",
        "print(string_t)\n",
        "byte_t = string_t.encode('utf-8')\n",
        "print(byte_t)\n",
        "b64_t = b64encode(byte_t)\n",
        "print(b64_t)\n",
        "int_t = int.from_bytes(byte_t,'big')\n",
        "print(int_t)\n",
        "print(format(int_t,'x'))\n",
        "int_t = int.from_bytes(b64_t,'big')\n",
        "print(int_t)\n",
        "print(format(int_t,'x'))\n"
      ],
      "execution_count": 2,
      "outputs": [
        {
          "output_type": "stream",
          "text": [
            "I hate security.\n",
            "b'I hate security.'\n",
            "b'SSBoYXRlIHNlY3VyaXR5Lg=='\n",
            "97201914283525032754921666349643364654\n",
            "4920686174652073656375726974792e\n",
            "2043128755156558113254692191299997088232814889420729040189\n",
            "5353426f5958526c49484e6c59335679615852354c673d3d\n"
          ],
          "name": "stdout"
        }
      ]
    },
    {
      "cell_type": "markdown",
      "metadata": {
        "id": "_86FSzhp4B7z",
        "colab_type": "text"
      },
      "source": [
        "(*30 points*) Challenge 1: Breaking XOR encryptions.\n",
        "---------------------------------------------------\n",
        "\n",
        "### Description\n",
        "\n",
        "In this challenge, you will be given a cipher text that is encrypted with a fixed (unknown)-length XOR enrtypion.\n",
        "`get_xor_encryption oracle` gives you a pair or function that encrypts and decrypts the given input bytes.\n",
        "`test_xor` shows an example of using it.\n"
      ]
    },
    {
      "cell_type": "code",
      "metadata": {
        "id": "erG7VK5x4B70",
        "colab_type": "code",
        "colab": {
          "base_uri": "https://localhost:8080/",
          "height": 205
        },
        "outputId": "622debe0-bf7e-4f2d-bfba-60e37c08a5dd"
      },
      "source": [
        "\"\"\"insert\"\"\"\n",
        "def to_bin(num):\n",
        "    b = bin(num).split('b')[1]\n",
        "    while len(b) != 8:\n",
        "        b = '0'+b\n",
        "    return b\n",
        "\"\"\"insert\"\"\"\n",
        "\n",
        "def get_xor_encryption_oracle_1(key_size = 16, key = None):\n",
        "    if (key == None):\n",
        "        key = token_bytes(key_size)\n",
        "\n",
        "    \"\"\"insert\"\"\"\n",
        "    print(\"len of key : \", len(key))\n",
        "    print(\"key\\t\",end='')\n",
        "    for i in key:\n",
        "        print(to_bin(i), end=' ')\n",
        "    print()\n",
        "    \"\"\"insert\"\"\"\n",
        "    def xor_bytes(key_bytes: bytes,val_bytes: bytes):\n",
        "        cipher = b''\n",
        "        key_len = len(key_bytes)\n",
        "        for i in range(len(val_bytes)):\n",
        "            k = key_bytes[i%key_len]\n",
        "            v = val_bytes[i]\n",
        "            cipher += (key_bytes[i%key_len] ^ val_bytes[i]).to_bytes(1,'big')\n",
        "        return cipher\n",
        "    def encrypt(plain: bytes):\n",
        "        return xor_bytes(key,plain)\n",
        "        pass\n",
        "    def decrypt(cipher: bytes):\n",
        "        return xor_bytes(key,cipher)\n",
        "        pass\n",
        "    \n",
        "    return encrypt, decrypt\n",
        "\n",
        "def test_xor():\n",
        "    input_str = 'I hate cryptography.'\n",
        "    input_bytes = input_str.encode('utf-8')\n",
        "    enc,dec = get_xor_encryption_oracle_1()\n",
        "    cipher = enc(input_bytes)\n",
        "\n",
        "    \"\"\"insert\"\"\"\n",
        "    print(\"input\\t\",end=\"\")\n",
        "    for i in input_bytes:\n",
        "        print(to_bin(i), end=\" \")\n",
        "    print()\n",
        "    print(\"cipher\\t\",end=\"\")\n",
        "    for i in cipher:\n",
        "        print(to_bin(i), end=\" \")\n",
        "    print()\n",
        "    print(cipher)\n",
        "    \"\"\"insert\"\"\"\n",
        "\n",
        "    plain = dec(cipher)\n",
        "    plain_str = plain.decode('utf-8')\n",
        "    print('input_str: ' + input_str)\n",
        "    print('cipher:    ' + b64encode(cipher).decode('utf-8'))\n",
        "    print('plain_str: ' + plain_str)\n",
        "    print(plain_str == input_str)\n",
        "\n",
        "\n",
        "\n",
        "if __name__ == '__main__':\n",
        "    test_xor()\n",
        "\n",
        "\n"
      ],
      "execution_count": 76,
      "outputs": [
        {
          "output_type": "stream",
          "text": [
            "len of key :  16\n",
            "key\t01001001 10110100 00101001 11110011 00100101 00100011 00010011 11000000 01100110 01011000 00001100 11101000 01001001 11111010 01110111 01110101 \n",
            "input\t01001001 00100000 01101000 01100001 01110100 01100101 00100000 01100011 01110010 01111001 01110000 01110100 01101111 01100111 01110010 01100001 01110000 01101000 01111001 00101110 \n",
            "cipher\t00000000 10010100 01000001 10010010 01010001 01000110 00110011 10100011 00010100 00100001 01111100 10011100 00100110 10011101 00000101 00010100 00111001 11011100 01010000 11011101 \n",
            "b'\\x00\\x94A\\x92QF3\\xa3\\x14!|\\x9c&\\x9d\\x05\\x149\\xdcP\\xdd'\n",
            "input_str: I hate cryptography.\n",
            "cipher:    AJRBklFGM6MUIXycJp0FFDncUN0=\n",
            "plain_str: I hate cryptography.\n",
            "True\n"
          ],
          "name": "stdout"
        }
      ]
    },
    {
      "cell_type": "markdown",
      "metadata": {
        "id": "TDOmuIfW4B71",
        "colab_type": "text"
      },
      "source": [
        "### Task\n",
        "\n",
        "Your task is to fill out `crack_xor` that returns plain text as a string from an xor-encrypted ciphertext.  \n",
        "Grader will use a function like `test_crack_xor` to test your submission.  \n",
        "Please note the following.\n",
        "1. Assume that the key size is 16.\n",
        "2. `crack_xor` cannot use the oracle (any function that the oracle gives you). The oracle implementation is just for you to test your crack.\n",
        "3. Assume that the plaintext is a long text in English (the statistics-based approach in Lec 3 works!).\n",
        "4. Please make sure that your cracker successfully decrypts the `test_input` given above.\n",
        "\n",
        "\n",
        "#### Strategy\n",
        "\n",
        "1. Note that `get_xor_encryption_oracle_1` is configurable.  \n",
        "2. Please first try to crack when key size is 1. When key size is 1, it's just substitution.  \n",
        "3. Using that, as you know the key size and the ECB mode is being used, you can collect the bytes encrypted with each byte in the key. Apply the function above.\n",
        "4. Please remember that the real sentences also have quite a lot of newlines and spaces.\n"
      ]
    },
    {
      "cell_type": "code",
      "metadata": {
        "id": "dqbIGNqz4B72",
        "colab_type": "code",
        "colab": {
          "base_uri": "https://localhost:8080/",
          "height": 1000
        },
        "outputId": "d3ff254d-4ae0-479a-ec5e-54b86911da94"
      },
      "source": [
        "class Tools_1:\n",
        "    key = 0\n",
        "\n",
        "    def count_figure(string):\n",
        "        dict = {}\n",
        "        for char in string:\n",
        "            if char in dict.keys():\n",
        "                dict[char] += 1\n",
        "            else:\n",
        "                dict[char] = 1\n",
        "        r = sorted(dict.items(), key=(lambda x:x[1]), reverse=True)\n",
        "        print(r[0][0])\n",
        "        Tools_1.key = 32^r[0][0]\n",
        "        print(\"key : \",Tools_1.key)\n",
        "        return r\n",
        "    pass\n",
        "    \n",
        "\n",
        "def crack_xor(cipher: bytes):\n",
        "    plain = []\n",
        "    for char in cipher:\n",
        "        plain.append(chr(char^Tools_1.key))\n",
        "    s = \"\".join(plain)\n",
        "    plain = s.encode('utf-8')\n",
        "    return plain\n",
        "\n",
        "def test_crack_xor():\n",
        "    enc, dec = get_xor_encryption_oracle_1(1)\n",
        "    for i in range(len(test_inputs)):\n",
        "        t = test_inputs[i]\n",
        "        cipher = enc(t.encode('utf-8'))\n",
        "\n",
        "        '''insert'''\n",
        "        print(cipher)\n",
        "        print(\"len of cipher : {}\".format(Tools_1.count_figure(cipher)))\n",
        "        print(dec(cipher).decode('utf-8'))\n",
        "        print(\"len of plain : {}\".format(len(dec(cipher))))\n",
        "        print(\"=\"*30)\n",
        "        print(crack_xor(cipher).decode('utf-8'))\n",
        "        '''insert'''\n",
        "\n",
        "        print('test {}: '.format(i) + str(dec(cipher).decode('utf-8') == crack_xor(cipher).decode('utf-8')))\n",
        "        pass\n",
        "    pass\n",
        "\n",
        "test_crack_xor()\n",
        "    \n",
        "    "
      ],
      "execution_count": 120,
      "outputs": [
        {
          "output_type": "stream",
          "text": [
            "len of key :  1\n",
            "key\t00011111 \n",
            "b'Wzso?rz3?V8iz?y~sszq?pq?kwz?vqlv{z\\x12\\x15V?kmvz{?kp?|w~qxz?kwz?x~rz\\x12\\x15V?kmvz{?kp?vqyvskm~kz3?}jk?qph?V8r?splvqx\\x12\\x15Rzq?vq?|sp~tl?~sh~fl?lzzr?kp?mjq?kwz?lwph\\x12\\x15L~iz?rz?ympr?kwz\\x12\\x15Xwplkl?~q{?lw~{phl?}zypmz?kwzf?z~k?rf?lpjs\\x12\\x15Rzm|f\\x12\\x15Rzm|f\\x12\\x15Lwph?rz?rzm|f3?ympr?kwz?ophzml?kw~k?}z\\x12\\x15Lwph?rz?rzm|f3?|~q?lprzpqz?mzl|jz?rz \\x12\\x15^}lzqk?xp{l?~q{?lvszqk?kfm~qqf\\x12\\x15Hz8mz?xpvqx?jq{zm3?wfoqpkvez{?}f?~qpkwzm?ojoozkzzm\\x12\\x15^q{?kzss?rz?hwf?kwz?rzq?vq?|sp~tl?~sh~fl?w~iz\\x12\\x15Kp?}mvqx?rz?{phq\\x12\\x15Mjqqvqx?ympr?kwz\\x12\\x15Xwplkl?~q{?lw~{phl?kwz?hpms{?ujlk?{vl~iphl\\x12\\x15Rzm|f\\x12\\x15Rzm|f\\x12\\x15Lwph?rz?rzm|f3?ympr?kwz?ophzml?kw~k?}z\\x12\\x15Lwph?rz?rzm|f3?|~q?lprzpqz?mzl|jz?rz \\x12\\x15Lwph?rz?rzm|f\\x12\\x15Lwph?rz?rzm|f3?osz~lz\\x12\\x15Wzso?rz3?V8iz?y~sszq?pq?kwz?vqlv{z\\x12\\x15^q{?~ss?kwz?rzq?vq?|sp~tl?kmfvqx?kp?{zipjm?rf?lpjs\\x12\\x15Lwph?rz?rzm|f?ympr?kwz?ophzml?kw~k?}z\\x12\\x15Lwph?rz?rzm|f?ympr?kwz?xjkszll?~q{?rz~q\\x12\\x15Lwph?rz?rzm|f?ympr?kwz?tvssvqx?r~|wvqzl\\x12\\x15Lwph?rz?rzm|f3?|~q?lprzpqz?mzl|jz?rz '\n",
            "63\n",
            "key :  31\n",
            "len of cipher : [(63, 139), (122, 105), (112, 54), (114, 47), (113, 46), (107, 43), (109, 41), (119, 39), (108, 39), (126, 34), (18, 27), (21, 27), (115, 25), (124, 25), (102, 25), (104, 23), (118, 22), (123, 19), (106, 13), (121, 11), (120, 11), (76, 11), (111, 10), (51, 10), (125, 8), (105, 6), (86, 5), (82, 5), (56, 4), (116, 4), (32, 3), (94, 3), (87, 2), (88, 2), (72, 1), (101, 1), (75, 1), (77, 1), (117, 1)]\n",
            "Help me, I've fallen on the inside\r\n",
            "I tried to change the game\r\n",
            "I tried to infiltrate, but now I'm losing\r\n",
            "Men in cloaks always seem to run the show\r\n",
            "Save me from the\r\n",
            "Ghosts and shadows before they eat my soul\r\n",
            "Mercy\r\n",
            "Mercy\r\n",
            "Show me mercy, from the powers that be\r\n",
            "Show me mercy, can someone rescue me?\r\n",
            "Absent gods and silent tyranny\r\n",
            "We're going under, hypnotized by another puppeteer\r\n",
            "And tell me why the men in cloaks always have\r\n",
            "To bring me down\r\n",
            "Running from the\r\n",
            "Ghosts and shadows the world just disavows\r\n",
            "Mercy\r\n",
            "Mercy\r\n",
            "Show me mercy, from the powers that be\r\n",
            "Show me mercy, can someone rescue me?\r\n",
            "Show me mercy\r\n",
            "Show me mercy, please\r\n",
            "Help me, I've fallen on the inside\r\n",
            "And all the men in cloaks trying to devour my soul\r\n",
            "Show me mercy from the powers that be\r\n",
            "Show me mercy from the gutless and mean\r\n",
            "Show me mercy from the killing machines\r\n",
            "Show me mercy, can someone rescue me?\n",
            "len of plain : 893\n",
            "==============================\n",
            "Help me, I've fallen on the inside\r\n",
            "I tried to change the game\r\n",
            "I tried to infiltrate, but now I'm losing\r\n",
            "Men in cloaks always seem to run the show\r\n",
            "Save me from the\r\n",
            "Ghosts and shadows before they eat my soul\r\n",
            "Mercy\r\n",
            "Mercy\r\n",
            "Show me mercy, from the powers that be\r\n",
            "Show me mercy, can someone rescue me?\r\n",
            "Absent gods and silent tyranny\r\n",
            "We're going under, hypnotized by another puppeteer\r\n",
            "And tell me why the men in cloaks always have\r\n",
            "To bring me down\r\n",
            "Running from the\r\n",
            "Ghosts and shadows the world just disavows\r\n",
            "Mercy\r\n",
            "Mercy\r\n",
            "Show me mercy, from the powers that be\r\n",
            "Show me mercy, can someone rescue me?\r\n",
            "Show me mercy\r\n",
            "Show me mercy, please\r\n",
            "Help me, I've fallen on the inside\r\n",
            "And all the men in cloaks trying to devour my soul\r\n",
            "Show me mercy from the powers that be\r\n",
            "Show me mercy from the gutless and mean\r\n",
            "Show me mercy from the killing machines\r\n",
            "Show me mercy, can someone rescue me?\n",
            "test 0: True\n",
            "b'Kwz?lqph?xsphl?hwvkz?pq?kwz?rpjqk~vq?kpqvxwk\\x12\\x15Qpk?~?yppkomvqk?kp?}z?lzzq\\x12\\x15^?tvqx{pr?py?vlps~kvpq\\x12\\x15^q{?vk?spptl?svtz?V8r?kwz?njzzq\\x12\\x15Kwz?hvq{?vl?wphsvqx?svtz?kwvl?lhvmsvqx?lkpmr?vqlv{z\\x12\\x15\\\\pjs{q8k?tzzo?vk?vq3?wz~izq?tqphl?V8iz?kmvz{\\x12\\x15[pq8k?szk?kwzr?vq3?{pq8k?szk?kwzr?lzz\\x12\\x15]z?kwz?xpp{?xvms?fpj?~sh~fl?w~iz?kp?}z\\x12\\x15\\\\pq|z~s3?{pq8k?yzzs3?{pq8k?szk?kwzr?tqph\\x12\\x15Hzss3?qph?kwzf?tqph\\x12\\x15Szk?vk?xp3?szk?vk?xp\\x12\\x15\\\\~q8k?wps{?vk?}~|t?~qfrpmz\\x12\\x15Szk?vk?xp3?szk?vk?xp\\x12\\x15Kjmq?~h~f?~q{?ls~r?kwz?{ppm\\x12\\x15V?{pq8k?|~mz?hw~k?kwzf8mz?xpvqx?kp?l~f\\x12\\x15Szk?kwz?lkpmr?m~xz?pq\\x12\\x15Kwz?|ps{?qzizm?}pkwzmz{?rz?~qfh~f\\x12\\x15Szk?vk?xp3?szk?vk?xp\\x12\\x15\\\\~q8k?wps{?vk?}~|t?~qfrpmz\\x12\\x15Szk?vk?xp3?szk?vk?xp\\x12\\x15Kjmq?~h~f?~q{?ls~r?kwz?{ppm\\x12\\x15Szk?vk?xp?7xp3?xp3?xp?xp3?xp?xp3?xp?xp3?xp3?xp3?xp?xp6\\x12\\x15Szk?vk?xp\\x12\\x15Szk?vk?xp\\x12\\x15Szk?vk?xp\\x12\\x15Vk8l?yjqqf?wph?lprz?{vlk~q|z?r~tzl'\n",
            "63\n",
            "key :  31\n",
            "len of cipher : [(63, 139), (112, 72), (107, 70), (122, 67), (113, 44), (118, 39), (120, 34), (126, 30), (115, 26), (119, 25), (18, 25), (21, 25), (108, 21), (123, 20), (109, 17), (104, 16), (51, 16), (114, 15), (56, 12), (102, 12), (116, 11), (83, 9), (106, 7), (124, 6), (75, 5), (125, 5), (121, 4), (86, 4), (92, 4), (105, 4), (111, 2), (94, 2), (81, 1), (110, 1), (91, 1), (93, 1), (72, 1), (55, 1), (54, 1)]\n",
            "The snow glows white on the mountain tonight\r\n",
            "Not a footprint to be seen\r\n",
            "A kingdom of isolation\r\n",
            "And it looks like I'm the queen\r\n",
            "The wind is howling like this swirling storm inside\r\n",
            "Couldn't keep it in, heaven knows I've tried\r\n",
            "Don't let them in, don't let them see\r\n",
            "Be the good girl you always have to be\r\n",
            "Conceal, don't feel, don't let them know\r\n",
            "Well, now they know\r\n",
            "Let it go, let it go\r\n",
            "Can't hold it back anymore\r\n",
            "Let it go, let it go\r\n",
            "Turn away and slam the door\r\n",
            "I don't care what they're going to say\r\n",
            "Let the storm rage on\r\n",
            "The cold never bothered me anyway\r\n",
            "Let it go, let it go\r\n",
            "Can't hold it back anymore\r\n",
            "Let it go, let it go\r\n",
            "Turn away and slam the door\r\n",
            "Let it go (go, go, go go, go go, go go, go, go, go go)\r\n",
            "Let it go\r\n",
            "Let it go\r\n",
            "Let it go\r\n",
            "It's funny how some distance makes\n",
            "len of plain : 795\n",
            "==============================\n",
            "The snow glows white on the mountain tonight\r\n",
            "Not a footprint to be seen\r\n",
            "A kingdom of isolation\r\n",
            "And it looks like I'm the queen\r\n",
            "The wind is howling like this swirling storm inside\r\n",
            "Couldn't keep it in, heaven knows I've tried\r\n",
            "Don't let them in, don't let them see\r\n",
            "Be the good girl you always have to be\r\n",
            "Conceal, don't feel, don't let them know\r\n",
            "Well, now they know\r\n",
            "Let it go, let it go\r\n",
            "Can't hold it back anymore\r\n",
            "Let it go, let it go\r\n",
            "Turn away and slam the door\r\n",
            "I don't care what they're going to say\r\n",
            "Let the storm rage on\r\n",
            "The cold never bothered me anyway\r\n",
            "Let it go, let it go\r\n",
            "Can't hold it back anymore\r\n",
            "Let it go, let it go\r\n",
            "Turn away and slam the door\r\n",
            "Let it go (go, go, go go, go go, go go, go, go, go go)\r\n",
            "Let it go\r\n",
            "Let it go\r\n",
            "Let it go\r\n",
            "It's funny how some distance makes\n",
            "test 1: True\n"
          ],
          "name": "stdout"
        }
      ]
    },
    {
      "cell_type": "code",
      "metadata": {
        "id": "40PfYN3Tij9K",
        "colab_type": "code",
        "colab": {
          "base_uri": "https://localhost:8080/",
          "height": 36
        },
        "outputId": "8031047d-eeb4-4bfe-cf8d-2c9d9f508163"
      },
      "source": [
        "\"\"\"\n",
        "note for Challenge 1\n",
        "\"\"\""
      ],
      "execution_count": 121,
      "outputs": [
        {
          "output_type": "stream",
          "text": [
            "fatal: not a git repository (or any of the parent directories): .git\n"
          ],
          "name": "stdout"
        }
      ]
    },
    {
      "cell_type": "markdown",
      "metadata": {
        "id": "vZ3m9q5y4B74",
        "colab_type": "text"
      },
      "source": [
        "(*30 Points*) Challenge 2: Breaking insecure ECB\n",
        "----------------------------------\n",
        "\n",
        "### Descryption\n",
        "\n",
        "In practice, you might be capable of altering a part of ciphertext that you want to decrypt. i.e.,  \n",
        "\n",
        "\n",
        "```\n",
        "CIPHER = AES-128-ECB(your-controlled-bytes || unknown-bytes, unknown-key)\n",
        "```\n",
        "(`||` stands for concatenation. (`1 || 2 = 12`))\n",
        "\n",
        "\n",
        "`get_oracle_2` gives you a pair `encrypt`,`decrypt` doing the above, and `get_unknown_bytes` for you to debug.\n"
      ]
    },
    {
      "cell_type": "code",
      "metadata": {
        "id": "cpdG31sI4B74",
        "colab_type": "code",
        "colab": {}
      },
      "source": [
        "def get_oracle_2(unknown_bytes = token_bytes(13), key_size = 16):\n",
        "    \n",
        "    \n",
        "    key = token_bytes(key_size)\n",
        "    o = AES.new(key,AES.MODE_ECB)\n",
        "    \n",
        "    def __pkc7_pad(block,size = 16):\n",
        "        num_to_pad = (size - (len(block) % size)) % size\n",
        "        ret = block + bytes([num_to_pad]) * num_to_pad\n",
        "        return ret\n",
        "\n",
        "    def __pkc7_unpad(padded: bytes):\n",
        "        pad = padded[-1]\n",
        "        suffix = bytes([])\n",
        "        for i in range(len(padded)):\n",
        "            if padded[-1-i] == pad:\n",
        "                suffix = bytes([pad]) + suffix\n",
        "        if len(suffix) >= pad:\n",
        "            return padded[:-pad]\n",
        "        else:\n",
        "            print('bad padding')\n",
        "            raise Exception\n",
        "\n",
        "    def encrypt(plain_prefix: bytes):\n",
        "\n",
        "        plain = __pkc7_pad(plain_prefix + unknown_bytes)\n",
        "        return o.encrypt(plain)\n",
        "        pass\n",
        "    def decrypt(cipher: bytes):\n",
        "        plain = __pkc7_unpad(o.decrypt(cipher))\n",
        "        prefix = plain[:-len(unknown_bytes)]\n",
        "        return xor_bytes(key,cipher)\n",
        "        pass\n",
        "    def get_unknown_bytes():\n",
        "        return unknown_bytes\n",
        "    \n",
        "    return encrypt, decrypt, get_unknown_bytes\n",
        "\n",
        "\n",
        "\n",
        "\n"
      ],
      "execution_count": 0,
      "outputs": []
    },
    {
      "cell_type": "markdown",
      "metadata": {
        "id": "r02waZG-4B76",
        "colab_type": "text"
      },
      "source": [
        "### Task\n",
        "\n",
        "Your task is to fill out `crack_ecb` that reveals the unknown string embedded in an incoming oracle.  \n",
        "Grader will use a function like `test_crack_ecb` to test your submission.  \n",
        "Please note the following.\n",
        "\n",
        "- Assume that the key size is 16.\n",
        "\n",
        "\n",
        "#### Strategy\n",
        "\n",
        "1. You can give the oracle an arbitrarily long bytes as an input. What happens if you give 15 bytes? \n",
        "2. How long does it take to find out one byte bruteforcely?\n",
        "3. Can we repeat?\n",
        "\n"
      ]
    },
    {
      "cell_type": "code",
      "metadata": {
        "tags": [
          "outputPrepend"
        ],
        "id": "Tz0mi0YB4B76",
        "colab_type": "code",
        "colab": {},
        "outputId": "6bd12797-2453-488f-bd8d-90b8bcb78fd6"
      },
      "source": [
        "\n",
        "\n",
        "def crack_ecb(enc_oracle):\n",
        "    plain = b''\n",
        "    return plain\n",
        "\n",
        "def test_crack_ecb():\n",
        "    enc, dec, gus = get_oracle_2()\n",
        "    res = 'PASS' if crack_ecb(enc) == gus()  else 'FAIL'\n",
        "    print(res)\n",
        "    \n",
        "\n",
        "if __name__ == '__main__':\n",
        "    test_crack_ecb()\n"
      ],
      "execution_count": 0,
      "outputs": [
        {
          "output_type": "stream",
          "text": [
            "FAIL\n"
          ],
          "name": "stdout"
        }
      ]
    },
    {
      "cell_type": "markdown",
      "metadata": {
        "id": "Eer4EoXZ4B79",
        "colab_type": "text"
      },
      "source": [
        "(*20 Poiunts*) Challenge 3: Breaking AES CTR under a particular condition\n",
        "----------------------------------------------------------------------\n",
        "\n",
        "### Description\n",
        "\n",
        "Though the counter mode is one of the desirable mode of operation as we discussed in the class,  \n",
        "we should follow the condition: not resuing (K,IV) pairs. \n",
        "\n",
        "As the counter mode enables you to `seek` to a particular byte, you may end of allowing  \n",
        "the edit of cipher text by bytes.\n",
        "\n",
        "`oracle_4` gives you and oracle with which you can `encrypt`, `decrypt` and `edit` a ciphertext. \n",
        "\n",
        "Note that `encrypt ` and `decrypt` is provided only for debugging purposes.\n",
        "\n",
        "\n",
        "Though the `edit` does not allow you to decrypt an arbitrary ciphertext, it ends up allow an attacker to decrypt an arbitrary ciphertext.\n",
        "\n",
        "\n"
      ]
    },
    {
      "cell_type": "code",
      "metadata": {
        "id": "-pf18lqC4B79",
        "colab_type": "code",
        "colab": {},
        "outputId": "24a92e73-fcd2-4275-c9cd-16acd6aa7b65"
      },
      "source": [
        "\n",
        "\n",
        "class oracle_3:\n",
        "\n",
        "    def __init__(self):\n",
        "        self.key = token_bytes(16)\n",
        "        self.iv = token_bytes(16)\n",
        "        self.i = 0\n",
        "        self.o = AES.new(self.key,AES.MODE_CTR,counter=self.counter)\n",
        "\n",
        "    def counter(self):\n",
        "        self.i += 1\n",
        "        return (int.from_bytes(self.iv,'big') + self.i).to_bytes(16,'big')\n",
        "    \n",
        "    def __pkc7_pad(self,block,size):\n",
        "        num_to_pad = (size - (len(block) % size)) % size\n",
        "        ret = block + bytes([num_to_pad]) * num_to_pad\n",
        "        return ret\n",
        "\n",
        "    def pkc7_unpad(self, padded: bytes):\n",
        "        pad = padded[-1]\n",
        "        suffix = bytes([])\n",
        "        for i in range(len(padded)):\n",
        "            if padded[-1-i] == pad:\n",
        "                suffix = bytes([pad]) + suffix\n",
        "        if len(suffix) >= pad:\n",
        "            return padded[:-pad]\n",
        "        else:\n",
        "            print('bad padding')\n",
        "            raise Exception\n",
        "\n",
        "    def encrypt(self, plain: bytes):\n",
        "        self.i = 0\n",
        "        padded = self.__pkc7_pad(plain,16)\n",
        "        return self.o.encrypt(padded)\n",
        "        \n",
        "    def decrypt(self, cipher: bytes):\n",
        "        self.i = 0\n",
        "        plain = self.o.decrypt(cipher)\n",
        "        return self.pkc7_unpad(plain)\n",
        "\n",
        "    def edit(self, cipher: bytes, offset: int, newtext: bytes):\n",
        "        self.i = 0\n",
        "        plain = self.o.decrypt(cipher)\n",
        "        len_edit = min(len(newtext), len(plain)-offset)\n",
        "        prefix = plain[:offset]\n",
        "        surfix = plain[offset+len_edit:]\n",
        "        plain = prefix + newtext[:len_edit] + surfix\n",
        "        return self.encrypt(plain)\n",
        "    \n",
        "\n",
        "\n",
        "if __name__ == '__main__':\n",
        "    o = oracle_3()\n",
        "    plain = b'I hate cryptography'\n",
        "    cipher = o.encrypt(plain)\n",
        "    e = o.edit(cipher,10,b'aaaaa')\n",
        "    print(o.decrypt(e))\n",
        "    print(plain)\n"
      ],
      "execution_count": 0,
      "outputs": [
        {
          "output_type": "stream",
          "text": [
            "b'I hate cryaaaaaaphy'\n",
            "b'I hate cryptography'\n"
          ],
          "name": "stdout"
        }
      ]
    },
    {
      "cell_type": "markdown",
      "metadata": {
        "id": "qknq8BmX4B7_",
        "colab_type": "text"
      },
      "source": [
        "### Task\n",
        "\n",
        "Implement the `crack_by_edit` that takes a ciphertext and an oracle with `edit` (without `encrypt` or `decrypt`) as inputs,  \n",
        "and returns the plaintext.\n",
        "\n",
        "\n",
        "\n",
        "\n"
      ]
    },
    {
      "cell_type": "code",
      "metadata": {
        "id": "LLIns4kH4B7_",
        "colab_type": "code",
        "colab": {},
        "outputId": "b7b5eccb-91e5-4217-acd4-9082b823d0e5"
      },
      "source": [
        "def crack_by_edit(cipher: bytes, edit_oracle):\n",
        "    plain = b'0'\n",
        "    return plain\n",
        "\n",
        "\n",
        "def test_3():\n",
        "    o = oracle_3()\n",
        "    for t in test_inputs:\n",
        "        t = t.encode('utf-8')\n",
        "        c = o.encrypt(t)\n",
        "        \n",
        "        p = crack_by_edit(c,o.edit)\n",
        "        print(p == t)\n",
        "        \n",
        "    pass\n",
        "\n",
        "if __name__ == '__main__':\n",
        "    test_3()\n",
        "\n",
        "    "
      ],
      "execution_count": 0,
      "outputs": [
        {
          "output_type": "stream",
          "text": [
            "False\n",
            "False\n"
          ],
          "name": "stdout"
        }
      ]
    },
    {
      "cell_type": "markdown",
      "metadata": {
        "id": "ho29Acxw4B8B",
        "colab_type": "text"
      },
      "source": [
        "(*25 Points*) Challenge 4: Breaking SHA-1 keyed mac\n",
        "-------------------------------------\n",
        "\n",
        "### Description\n",
        "\n",
        "We have discussed about hash mac in class.  \n",
        "Here is an example of why we should follow such a standard, instead of using something that *looks* secure.\n",
        "\n",
        "`sha1` is an implementation of `sha1` hash in python, and using it, you could end up with the following scheme to generate MAC.\n",
        "\n",
        "```\n",
        "SHA1(key || original-message)\n",
        "```\n",
        "\n",
        "As you may notice in the code (or [the description of the algorithm](https://en.wikipedia.org/wiki/SHA-1)),  \n",
        "SHA1 pads the input to make its length be a multiple of block size, and it computes the new hash incrementally. i.e.,\n",
        "SHA1(msg1 || msg2) can be computed without msg1, if the length of msg1 is multiple of the block size and you know SHA1(msg1).\n",
        "\n",
        "\n"
      ]
    },
    {
      "cell_type": "code",
      "metadata": {
        "id": "syJdn7d84B8B",
        "colab_type": "code",
        "colab": {},
        "outputId": "8af9b7d2-95c6-45de-dfae-07eca7a253c2"
      },
      "source": [
        "# https://en.wikipedia.org/wiki/SHA-1\n",
        "\n",
        "\n",
        "def sha1(msg: bytes, \n",
        "    h0 = 0x67452301,\n",
        "    h1 = 0xEFCDAB89,\n",
        "    h2 = 0x98BADCFE,\n",
        "    h3 = 0x10325476,\n",
        "    h4 = 0xC3D2E1F0,\n",
        "    padder = None\n",
        "):\n",
        "\n",
        "    if(padder == None):\n",
        "        ml = len(msg)\n",
        "        len_pad = 56 - (ml % 64)\n",
        "        if len_pad < 0: len_pad += 64\n",
        "\n",
        "        pad = bytes([0x80] + [0] * (len_pad-1))\n",
        "        padded = msg + pad + (ml*8).to_bytes(8,'big')\n",
        "    else:\n",
        "        padded = padder(msg)\n",
        "\n",
        "\n",
        "\n",
        "    def left_rotate(n, a):\n",
        "        return ((n << a) | (n >> (32 - a))) & 0xffffffff\n",
        "\n",
        "    for cnk in chunks(padded,64):\n",
        "        w = list(map(lambda x: int.from_bytes(x,'big'),chunks(cnk,4)))\n",
        "        w = w * 5\n",
        "        for i in range(16,80):\n",
        "            w[i] = left_rotate((w[i-3] ^ w[i-8] ^ w[i-14] ^ w[i-16]),1)\n",
        "\n",
        "        a, b, c, d, e = h0, h1, h2, h3, h4\n",
        "        for i in range(80):\n",
        "            if 0 <= i <= 19:\n",
        "                f = (b & c) | (~b & d)\n",
        "                #f = d ^ (b & ( c ^ d))\n",
        "                k = 0x5A827999\n",
        "            elif 20 <= i <= 39:\n",
        "                f = b ^ c ^ d\n",
        "                k = 0x6ED9EBA1\n",
        "            elif 40 <= i <= 59:\n",
        "                f = (b & c) | (b & d) | (c & d)\n",
        "                k = 0x8F1BBCDC\n",
        "            elif 60 <= i <= 79:\n",
        "                f = b ^ c ^ d\n",
        "                k = 0xCA62C1D6\n",
        "            \n",
        "            tmp = (left_rotate(a,5) + f + e + k + w[i]) & 0xFFFFFFFF\n",
        "            e = d\n",
        "            d = c\n",
        "            c = left_rotate (b,30)\n",
        "            b = a\n",
        "            a = tmp\n",
        "        h0 = (h0 + a) & 0xFFFFFFFF\n",
        "        h1 = (h1 + b) & 0xFFFFFFFF\n",
        "        h2 = (h2 + c) & 0xFFFFFFFF\n",
        "        h3 = (h3 + d) & 0xFFFFFFFF\n",
        "        h4 = (h4 + e) & 0xFFFFFFFF\n",
        "    \n",
        "    hh = [h0,h1,h2,h3,h4]\n",
        "    hh = list(map(lambda x: x.to_bytes(4,'big'),hh))\n",
        "    res = bytes([])\n",
        "    for h in hh:\n",
        "        res += h\n",
        "\n",
        "    #print(format(int.from_bytes(res,'big'),'x'))\n",
        "\n",
        "    return res\n",
        "\n",
        "msg = b'username=hyungon;user=yes'\n",
        "\n",
        "\n",
        "def get_oracle_5():\n",
        "    key = token_bytes(24)\n",
        "    def sign(msg: bytes):\n",
        "        return sha1(key + msg)\n",
        "        \n",
        "    def verify(msg: bytes, mac: bytes):\n",
        "        ref = sign(msg)\n",
        "        return ref == mac\n",
        "    \n",
        "    return sign, verify\n",
        "\n",
        "\n",
        "if __name__ == '__main__':\n",
        "    s,v = get_oracle_5()\n",
        "    mac = s(msg)\n",
        "    print(v(msg,mac))\n",
        "\n",
        "\n"
      ],
      "execution_count": 0,
      "outputs": [
        {
          "output_type": "stream",
          "text": [
            "True\n"
          ],
          "name": "stdout"
        }
      ]
    },
    {
      "cell_type": "markdown",
      "metadata": {
        "id": "a_OmyFE-4B8D",
        "colab_type": "text"
      },
      "source": [
        "### Task\n",
        "\n",
        "Here your task is to append a message of your choice to a given mac and original data without the key, and get it passed the `verify` function.  \n",
        "Implement `forge_sha1` doing this.  "
      ]
    },
    {
      "cell_type": "code",
      "metadata": {
        "id": "dIsncyrp4B8E",
        "colab_type": "code",
        "colab": {},
        "outputId": "425da12b-cfae-4e70-c3dc-fc416ed0da69"
      },
      "source": [
        "def forge_sha1(original_data: bytes, mac: bytes, new_data_to_append: bytes, key_size):\n",
        "    forged_message = b''\n",
        "    forged_mac = b''\n",
        "\n",
        "    return forged_message, forged_mac\n",
        "\n",
        "def test_4():\n",
        "    orig_msg = b'username=hyungon;user=yes'\n",
        "    msg_to_append = b';admin=yes'\n",
        "    s,v = get_oracle_5()\n",
        "    orig_mac = s(orig_msg)\n",
        "    passed_key_size = 0\n",
        "    for i in [16,24,32,48]:\n",
        "        new_msg, new_mac = forge_sha1(orig_msg, orig_mac, msg_to_append,i)\n",
        "        if v(new_msg, new_mac):\n",
        "            passed_key_size = i\n",
        "            break\n",
        "    \n",
        "    if(passed_key_size == 0):\n",
        "        print('FAILED')\n",
        "    else:\n",
        "        print(passed_key_size)\n",
        "        print('PASSED')\n",
        "\n",
        "    pass\n",
        "\n",
        "if __name__ == '__main__':\n",
        "    test_4()\n",
        "    pass\n"
      ],
      "execution_count": 0,
      "outputs": [
        {
          "output_type": "stream",
          "text": [
            "FAILED\n"
          ],
          "name": "stdout"
        }
      ]
    },
    {
      "cell_type": "markdown",
      "metadata": {
        "id": "1Amy5iph4B8H",
        "colab_type": "text"
      },
      "source": [
        "(*25 Points*) Challenge 5: Breaking Sha-1 HMAC\n",
        "----------------------------------------------\n",
        "\n",
        "### Description\n",
        "\n",
        "HMAC is considered secure in that it is free from the attacks like we've done in Challenge 5.  \n",
        "However, some small implementation details could make it insecure.  \n",
        "Please check the `get_oracle_6` that implements such an (artificially) insecure HMAC.\n",
        "\n"
      ]
    },
    {
      "cell_type": "code",
      "metadata": {
        "id": "o9G9_9Rm4B8H",
        "colab_type": "code",
        "colab": {}
      },
      "source": [
        "def get_oracle_5():\n",
        "    block_size = 16\n",
        "    insecure_delay = 0.05\n",
        "    key = int.from_bytes(token_bytes(16),'big')\n",
        "\n",
        "    \n",
        "    opad = key ^ int.from_bytes(bytes([0x5c]) * block_size, 'big')\n",
        "    ipad = key ^ int.from_bytes(bytes([0x36]) * block_size, 'big')\n",
        "\n",
        "    key = key.to_bytes(16,'big')\n",
        "    opad = opad.to_bytes(16,'big')\n",
        "    ipad = ipad.to_bytes(16,'big')\n",
        "\n",
        "    def sign(msg: bytes):\n",
        "        return sha1(opad + sha1(ipad + msg))\n",
        "\n",
        "    def insecure_eq(a: bytes, b: bytes):\n",
        "        if len(a) != len(b): return False\n",
        "        for i in range(len(a)):\n",
        "            if a[i] != b[i]: return False\n",
        "            sleep(insecure_delay)\n",
        "        return True\n",
        "    def verify(msg: bytes, mac:bytes):\n",
        "        ref = sign(msg)\n",
        "        if insecure_eq(ref,mac): return True\n",
        "        else: return False\n",
        "    \n",
        "    return verify, sign\n",
        "\n",
        "\n",
        "\n",
        "\n"
      ],
      "execution_count": 0,
      "outputs": []
    },
    {
      "cell_type": "markdown",
      "metadata": {
        "id": "cEmBtjD04B8J",
        "colab_type": "text"
      },
      "source": [
        "### Task\n",
        "\n",
        "Assume an attacker can repeatedly call `verify`. `sign` is just for debugging.\n",
        "Leveraging the existence of `insecure_eq`, please write a function that obtains a valid mac for\n",
        "and given message by calling only the `verify`.\n",
        "\n",
        "#### Strategy\n",
        "\n",
        "- Measure the execution time of `verify` function calls.\n",
        "\n"
      ]
    },
    {
      "cell_type": "code",
      "metadata": {
        "id": "SBFkRaxT4B8J",
        "colab_type": "code",
        "colab": {},
        "outputId": "a8e07df6-51bb-4e68-9bda-32802a5db4c8"
      },
      "source": [
        "def forge_hmac_timing(msg: bytes, len_mac = 20):\n",
        "\n",
        "    return b'0'\n",
        "\n",
        "def test_5():\n",
        "    msg = b'username=hyungon;admin=yes'\n",
        "    learned = forge_hmac_timing(msg)\n",
        "    print(v(msg,bytes(learned)))\n",
        "    print(bytes(learned).hex())\n",
        "    pass\n",
        "\n",
        "if __name__ == '__main__':\n",
        "    test_5()\n",
        "    pass\n",
        "\n"
      ],
      "execution_count": 0,
      "outputs": [
        {
          "output_type": "stream",
          "text": [
            "False\n",
            "30\n"
          ],
          "name": "stdout"
        }
      ]
    },
    {
      "cell_type": "markdown",
      "metadata": {
        "id": "PZqnbU114B8L",
        "colab_type": "text"
      },
      "source": [
        "(*20 Points*) Challenge 6: Implement RSA\n",
        "-------------------------------------\n",
        "\n",
        "\n",
        "### Description\n",
        "\n",
        "Unlike eariler challenges, we'll be first implementing our own oracle for the next challenge.\n",
        "`oracle_7` is a work-in-progress, which is supposed to give you and access to `encrypt` and `decrypt` functions.\n",
        "\n",
        "### Task\n",
        "\n",
        "Please complete the oracle by implementing `encrypt`, `decrypt`, and `__generate_arguments` functions.  \n",
        "Note that the oracle takes `e`, the exponent as an input for the next challenge.\n"
      ]
    },
    {
      "cell_type": "code",
      "metadata": {
        "id": "PPB2L7qv4B8L",
        "colab_type": "code",
        "colab": {},
        "outputId": "204452cb-c4b4-4598-cbd3-37b502784977"
      },
      "source": [
        "\n",
        "\n",
        "\n",
        "# insecure \"textbook\" rsa\n",
        "class oracle_7():\n",
        "    \n",
        "    def __init__(self, e: int):\n",
        "        self.e = e\n",
        "        self.__generate_arguments()\n",
        "\n",
        "    def __get_primes(self,key_length):\n",
        "        rg = Random.new().read\n",
        "        rg(int.from_bytes(token_bytes(1),'big'))\n",
        "        keypair = RSA.generate(key_length, rg)\n",
        "        return keypair.p, keypair.q\n",
        "    def egcd(a, b):\n",
        "        if a == 0:\n",
        "            return (b, 0, 1)\n",
        "        else:\n",
        "            g, y, x = egcd(b % a, a)\n",
        "            return (g, x - (b // a) * y, y)\n",
        "\n",
        "    def __egcd(self,a, b):\n",
        "        if a == 0:\n",
        "            return (b, 0, 1)\n",
        "        else:\n",
        "            g, y, x = egcd(b % a, a)\n",
        "            return (g, x - (b // a) * y, y)\n",
        "\n",
        "    def __modinv(self,a, m):\n",
        "        g, x, y = egcd(a, m)\n",
        "        if g != 1:\n",
        "            raise Exception('modular inverse does not exist')\n",
        "        else:\n",
        "            return x % m\n",
        "\n",
        "    def __generate_arguments(self):\n",
        "        \n",
        "        self.p = 0\n",
        "        self.q = 0\n",
        "        self.n = 0\n",
        "        self.l = 0\n",
        "        self.d = 0\n",
        "        self.pubkey = 0,0\n",
        "        self.privkey = 0,0\n",
        "        pass\n",
        "\n",
        "    def get_pubkey(self):\n",
        "        return self.pubkey\n",
        "\n",
        "    def encrypt(self,msg: bytes):\n",
        "        return b'0'\n",
        "\n",
        "    def decrypt(self,msg: bytes):\n",
        "        return b'0'\n",
        "\n",
        "def test_7():\n",
        "    o = oracle_7(65573)\n",
        "    msg = b'''\n",
        "    Computer security, cybersecurity[1] or information technology security (IT security) is the protection of computer systems and networks from the theft of or damage to their hardware, software, or electronic data, as well as from the disruption or misdirection of the services they provide.\n",
        "    '''\n",
        "    c = o.encrypt(msg)\n",
        "    p = o.decrypt(c)\n",
        "    print(p == msg)\n",
        "\n",
        "if __name__ == '__main__':\n",
        "    test_7()\n",
        "\n"
      ],
      "execution_count": 0,
      "outputs": [
        {
          "output_type": "stream",
          "text": [
            "False\n"
          ],
          "name": "stdout"
        }
      ]
    },
    {
      "cell_type": "markdown",
      "metadata": {
        "id": "dstayBO04B8N",
        "colab_type": "text"
      },
      "source": [
        "(*30 Points) Challenge 7. Break RSA with e=3\n",
        "-------------------------------------------\n",
        "\n",
        "### Description\n",
        "\n",
        "Like many other cryptographic schemes, RSA is secure only if implemented and used under the standard.  \n",
        "A common misimplementation of RSA is to choose the exponent `e` to be `3`, to make the encryption faster. It could be helpful if the computation power of the encryper side is expected to be weak.\n",
        "\n",
        "### Task\n",
        "\n",
        "Please fill out `crack_rsa` that takes three ciphertexts, each of which is generated from one plaintest, and the corresponding oracles (public keys).\n",
        "For the strategy, please refer to [https://cryptopals.com/sets/5/challenges/40].\n"
      ]
    },
    {
      "cell_type": "code",
      "metadata": {
        "id": "qTyI6qjM4B8N",
        "colab_type": "code",
        "colab": {},
        "outputId": "ba8bb594-6d06-4b00-abe6-5c50e06ef6a8"
      },
      "source": [
        "\n",
        "def egcd(a, b):\n",
        "    if a == 0:\n",
        "        return (b, 0, 1)\n",
        "    else:\n",
        "        g, y, x = egcd(b % a, a)\n",
        "        return (g, x - (b // a) * y, y)\n",
        "\n",
        "def modinv(a, m):\n",
        "    g, x, y = egcd(a, m)\n",
        "    if g != 1:\n",
        "        raise Exception('modular inverse does not exist')\n",
        "    else:\n",
        "        return x % m\n",
        "\n",
        "def crack_rsa(msg, oracles):\n",
        "    m = 0\n",
        "    return m\n",
        "    \n",
        "\n",
        "    pass\n",
        "def test():\n",
        "    o = [oracle_7(3),oracle_7(3),oracle_7(3)]\n",
        "    msg = b'I hate RSA' * 10\n",
        "    p = crack_rsa(msg,o)\n",
        "    print(p == msg)\n",
        "if __name__ == '__main__':\n",
        "    test()"
      ],
      "execution_count": 0,
      "outputs": [
        {
          "output_type": "stream",
          "text": [
            "False\n"
          ],
          "name": "stdout"
        }
      ]
    },
    {
      "cell_type": "markdown",
      "metadata": {
        "id": "eL6KcNRF4B8P",
        "colab_type": "text"
      },
      "source": [
        "# This is the end of lab 1."
      ]
    }
  ]
}